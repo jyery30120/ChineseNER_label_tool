{
  "nbformat": 4,
  "nbformat_minor": 0,
  "metadata": {
    "colab": {
      "name": "ner_label.ipynb",
      "version": "0.3.2",
      "provenance": [],
      "collapsed_sections": [],
      "toc_visible": true
    },
    "kernelspec": {
      "name": "python3",
      "display_name": "Python 3"
    }
  },
  "cells": [
    {
      "cell_type": "code",
      "metadata": {
        "id": "kAdzw3RWPk63",
        "colab_type": "code",
        "outputId": "838e22de-031e-46fe-920b-618deb68c878",
        "colab": {
          "base_uri": "https://localhost:8080/",
          "height": 125
        }
      },
      "source": [
        "from google.colab import drive\n",
        "drive.mount('/content/drive')"
      ],
      "execution_count": 0,
      "outputs": [
        {
          "output_type": "stream",
          "text": [
            "Go to this URL in a browser: https://accounts.google.com/o/oauth2/auth?client_id=947318989803-6bn6qk8qdgf4n4g3pfee6491hc0brc4i.apps.googleusercontent.com&redirect_uri=urn%3Aietf%3Awg%3Aoauth%3A2.0%3Aoob&scope=email%20https%3A%2F%2Fwww.googleapis.com%2Fauth%2Fdocs.test%20https%3A%2F%2Fwww.googleapis.com%2Fauth%2Fdrive%20https%3A%2F%2Fwww.googleapis.com%2Fauth%2Fdrive.photos.readonly%20https%3A%2F%2Fwww.googleapis.com%2Fauth%2Fpeopleapi.readonly&response_type=code\n",
            "\n",
            "Enter your authorization code:\n",
            "··········\n",
            "Mounted at /content/drive\n"
          ],
          "name": "stdout"
        }
      ]
    },
    {
      "cell_type": "code",
      "metadata": {
        "id": "C60Pa0_JPsTj",
        "colab_type": "code",
        "outputId": "4601cfe5-12e4-4c6f-b589-c4a2656d838a",
        "colab": {
          "base_uri": "https://localhost:8080/",
          "height": 34
        }
      },
      "source": [
        "cd drive/My Drive/_ntpu"
      ],
      "execution_count": 0,
      "outputs": [
        {
          "output_type": "stream",
          "text": [
            "/content/drive/My Drive/_ntpu\n"
          ],
          "name": "stdout"
        }
      ]
    },
    {
      "cell_type": "code",
      "metadata": {
        "id": "fgU_eKAuLJnA",
        "colab_type": "code",
        "colab": {}
      },
      "source": [
        "#f = open(\"skyeight.txt\", \"r\")    # for train.txt 5萬多字\n",
        "# f = open(\"eight_test.txt\", \"r\") # for test.txt  2萬8千字\n",
        "f = open(\"eight_dev.txt\", \"r\")    # for dev.txt  3萬3千字\n",
        "content = f.read()"
      ],
      "execution_count": 0,
      "outputs": []
    },
    {
      "cell_type": "code",
      "metadata": {
        "id": "AX-2G_gLRAHo",
        "colab_type": "code",
        "colab": {}
      },
      "source": [
        "\n",
        " # for train.txt\n",
        "# LOC_list = ['無量山','大理']  #地名\n",
        "# PER_list = ['菩薩','平婆婆','段譽','鐘靈','幹光豪','左子穆','龔光傑','司空玄','葛師妹','鐘萬仇','鐘夫人','貂兒']  #人名\n",
        "# ORG_list = ['神農幫']  #組織名\n",
        "\n",
        "# for test.txt\n",
        "# LOC_list = ['劍湖宮','無量山','大理','靈鷲宮']  #地名\n",
        "# PER_list = ['女郎','段譽','黑玫瑰','鐘萬仇','鐘靈','瑞婆婆','平婆婆','段公子','幹光豪','鐘夫人','神仙姊姊']  #人名\n",
        "# ORG_list = ['神農幫']  #組織名\n",
        "\n",
        " # for dev.txt\n",
        "LOC_list = ['大理']  #地名\n",
        "PER_list = ['蕭峰','段正淳','阮星竹','褚萬里','段延慶','南海鱷神','范驊','巴天石','朱丹臣','華赫艮','褚兄弟','木婉清','阿朱']  #人名\n",
        "ORG_list = []  #組織名\n",
        "\n",
        "label_str=''\n",
        "label_content = content\n",
        "\n",
        "for list_num,list_type in enumerate([LOC_list, PER_list, ORG_list]):\n",
        "  for num,name in enumerate(list_type):\n",
        "    count = 0\n",
        "    for i in name:\n",
        "      if(count == 0):\n",
        "        if(list_num == 0):\n",
        "          label_str =  ' B-LOC '\n",
        "        elif(list_num == 1):\n",
        "          label_str =  ' B-PER '\n",
        "        else:\n",
        "          label_str =  ' B-ORG '\n",
        "      else:\n",
        "        if(list_num == 0):\n",
        "          label_str = label_str + 'I-LOC '\n",
        "        elif(list_num == 1):\n",
        "          label_str = label_str + 'I-PER '\n",
        "        else:\n",
        "          label_str = label_str + 'I-ORG '\n",
        "      count +=1\n",
        "    label_content = label_content.replace(name,label_str)\n",
        "\n",
        "  \n",
        "list1 = []  \n",
        "\n",
        "label_list = ['B-LOC','I-LOC','B-PER','I-PER','B-ORG','I-ORG']\n",
        "\n",
        "for num,i in enumerate(label_content.split(' ')):\n",
        "    if(i not in label_list):\n",
        "      for word in i:\n",
        "        list1.append('o')\n",
        "    else:\n",
        "      list1.append(i)      \n",
        "\n",
        "# f_write = open('train.txt','w')\n",
        "# f_write = open('test.txt','w')\n",
        "f_write = open('dev.txt','w')\n",
        "for i in range(0,len(list1)):\n",
        "  f_write.writelines(content[i] + ' ' + list1[i] + '\\n') \n",
        "f_write.close()  "
      ],
      "execution_count": 0,
      "outputs": []
    },
    {
      "cell_type": "markdown",
      "metadata": {
        "id": "_hI7tz7FHGEl",
        "colab_type": "text"
      },
      "source": [
        "# 詞頻分析 方便找專有名詞"
      ]
    },
    {
      "cell_type": "markdown",
      "metadata": {
        "id": "K0Vi4u8ziVx2",
        "colab_type": "text"
      },
      "source": [
        "詞頻參考 https://blog.csdn.net/onestab/article/details/78307765"
      ]
    },
    {
      "cell_type": "code",
      "metadata": {
        "id": "tpezGfnEHOJ0",
        "colab_type": "code",
        "outputId": "357205d0-e7d0-4175-8eed-9e0c989bec1e",
        "colab": {
          "base_uri": "https://localhost:8080/",
          "height": 1000
        }
      },
      "source": [
        "import os, codecs\n",
        "import jieba\n",
        "from collections import Counter\n",
        " \n",
        "def get_words(txt):\n",
        "    seg_list = jieba.cut(txt)\n",
        "    c = Counter()\n",
        "    for x in seg_list:\n",
        "        if len(x)>1 and x != '\\r\\n':\n",
        "            c[x] += 1\n",
        "    print('常用詞頻統計結果')\n",
        "    for (k,v) in c.most_common(200):\n",
        "        print('%s%s %s  %d' % ('  '*(5-len(k)), k, '*'*int(v/3), v))\n",
        "if __name__ == '__main__':\n",
        "#     with codecs.open('skyeight.txt', 'r', 'utf8') as f:      # for train\n",
        "#     with codecs.open('eight_test.txt', 'r', 'utf8') as f:    # for test\n",
        "    with codecs.open('eight_dev.txt', 'r', 'utf8') as f:        # for dev\n",
        "        txt = f.read()\n",
        "    get_words(txt)\n"
      ],
      "execution_count": 256,
      "outputs": [
        {
          "output_type": "stream",
          "text": [
            "常用詞頻統計結果\n",
            "      蕭峰 *****************************************************************  197\n",
            "    段正淳 **************************************************  150\n",
            "...... ********************************  96\n",
            "      什麼 ************************  72\n",
            "      少女 ***********************  71\n",
            "      一個 **********************  66\n",
            "    中年人 *******************  57\n",
            "      阿朱 *****************  53\n",
            "      自己 ****************  50\n",
            "      延慶 ***************  46\n",
            "    阮星竹 ***************  45\n",
            "      不是 *************  39\n",
            "      女子 *************  39\n",
            "      大理 *************  39\n",
            "      說道 ************  38\n",
            "      爹爹 ************  37\n",
            "    褚萬里 ************  37\n",
            "      知道 **********  32\n",
            "      身子 **********  32\n",
            "      一聲 **********  31\n",
            "      武功 **********  30\n",
            "      大哥 *********  28\n",
            "      便是 *********  27\n",
            "      性命 ********  25\n",
            "      心中 ********  25\n",
            "      女兒 ********  24\n",
            "      伸手 *******  23\n",
            "      不知 *******  23\n",
            "      身上 *******  22\n",
            "      內力 ******  20\n",
            "      只是 ******  20\n",
            "      阿紫 ******  20\n",
            "      段家 ******  20\n",
            "      只見 ******  19\n",
            "      兩個 ******  19\n",
            "      這時 ******  18\n",
            "      如此 ******  18\n",
            "      這個 ******  18\n",
            "      如何 ******  18\n",
            "    阿朱道 ******  18\n",
            "      功夫 *****  17\n",
            "      肩頭 *****  17\n",
            "    那美婦 *****  17\n",
            "      眼見 *****  16\n",
            "      左手 *****  16\n",
            "      今日 *****  16\n",
            "      南海 *****  16\n",
            "      怎麼 *****  15\n",
            "      人家 *****  15\n",
            "      咱們 *****  15\n",
            "      心下 *****  15\n",
            "      主公 *****  15\n",
            "      手中 ****  14\n",
            "      右手 ****  14\n",
            "      這人 ****  14\n",
            "      心想 ****  14\n",
            "      鐵棒 ****  14\n",
            "      出來 ****  13\n",
            "      一般 ****  13\n",
            "      湖畔 ****  13\n",
            "      問道 ****  13\n",
            "      下來 ****  13\n",
            "      聲音 ****  13\n",
            "      范驊 ****  13\n",
            "      姊姊 ****  12\n",
            "      這麼 ****  12\n",
            "      片刻 ****  12\n",
            "      這些 ****  12\n",
            "      一驚 ****  12\n",
            "      二人 ****  12\n",
            "      他們 ****  12\n",
            "    巴天石 ****  12\n",
            "      大錯 ****  12\n",
            "    那漁人 ***  11\n",
            "      之中 ***  11\n",
            "      一步 ***  11\n",
            "      有人 ***  11\n",
            "      突然 ***  11\n",
            "      之間 ***  11\n",
            "    褚兄弟 ***  11\n",
            "      可是 ***  11\n",
            "      倘若 ***  11\n",
            "      大叫 ***  11\n",
            "      旁人 ***  11\n",
            "      心道 ***  11\n",
            "      原來 ***  11\n",
            "      難道 ***  11\n",
            "      一片 ***  11\n",
            "      低聲 ***  11\n",
            "      不敢 ***  11\n",
            "      夫人 ***  11\n",
            "    朱丹臣 ***  11\n",
            "      多半 ***  11\n",
            "      地下 ***  11\n",
            "      再也 ***  11\n",
            "      媽媽 ***  11\n",
            "      登時 ***  10\n",
            "      提起 ***  10\n",
            "      姑娘 ***  10\n",
            "      微笑 ***  10\n",
            "      兄弟 ***  10\n",
            "      起來 ***  10\n",
            "      始終 ***  10\n",
            "      大聲 ***  10\n",
            "      這裡 ***  10\n",
            "      銅棍 ***  10\n",
            "      兩人 ***  10\n",
            "      正是 ***  10\n",
            "      青石 ***  10\n",
            "      不住 ***  10\n",
            "      害死 ***  10\n",
            "      出去 ***  10\n",
            "      一掌 ***  10\n",
            "    華赫艮 ***  10\n",
            "      二娘 ***  10\n",
            "      範驊 ***  10\n",
            "      出手 ***  10\n",
            "      英雄 ***  10\n",
            "      身來 ***  9\n",
            "      似乎 ***  9\n",
            "      不過 ***  9\n",
            "      過去 ***  9\n",
            "      不可 ***  9\n",
            "      怎地 ***  9\n",
            "      不用 ***  9\n",
            "      不錯 ***  9\n",
            "      抱著 ***  9\n",
            "      顫聲 ***  9\n",
            "      不動 ***  9\n",
            "      一動 ***  9\n",
            "      不能 ***  9\n",
            "      風流 ***  9\n",
            "      段氏 ***  9\n",
            "      孩子 ***  9\n",
            "      條幅 ***  9\n",
            "      那年 ***  9\n",
            "      不理 **  8\n",
            "      這樣 **  8\n",
            "      湖中 **  8\n",
            "    小姑娘 **  8\n",
            "      怎樣 **  8\n",
            "    一聲響 **  8\n",
            "      一人 **  8\n",
            "      不起 **  8\n",
            "      不肯 **  8\n",
            "      臉上 **  8\n",
            "      微微 **  8\n",
            "      腰間 **  8\n",
            "      父母 **  8\n",
            "      下去 **  8\n",
            "    驀地裡 **  8\n",
            "      小鏡 **  8\n",
            "      父親 **  8\n",
            "      雖然 **  8\n",
            "      鱷神 **  8\n",
            "      不會 **  8\n",
            "      當下 **  8\n",
            "      明白 **  8\n",
            "      關外 **  8\n",
            "      今晚 **  8\n",
            "      帶頭 **  8\n",
            "      全身 **  7\n",
            "      年紀 **  7\n",
            "      漁人 **  7\n",
            "      這位 **  7\n",
            "      喜歡 **  7\n",
            "      頑皮 **  7\n",
            "      解開 **  7\n",
            "      暗器 **  7\n",
            "      厲害 **  7\n",
            "      一點 **  7\n",
            "      淹死 **  7\n",
            "      當真 **  7\n",
            "      一眼 **  7\n",
            "      不禁 **  7\n",
            "      多少 **  7\n",
            "    竹林中 **  7\n",
            "      一根 **  7\n",
            "      更是 **  7\n",
            "      不成 **  7\n",
            "      當然 **  7\n",
            "      不得 **  7\n",
            "      中原 **  7\n",
            "      害怕 **  7\n",
            "      當年 **  7\n",
            "      忽然 **  7\n",
            "      一件 **  7\n",
            "      一起 **  7\n",
            "      鐵杖 **  7\n",
            "      胸口 **  7\n",
            "      一生 **  7\n",
            "      部屬 **  7\n",
            "      打死 **  7\n",
            "      那婦 **  7\n",
            "      滿臉 **  6\n",
            "      釣杆 **  6\n",
            "      鮮血 **  6\n",
            "      手法 **  6\n",
            "      輕輕 **  6\n",
            "      竟然 **  6\n"
          ],
          "name": "stdout"
        }
      ]
    },
    {
      "cell_type": "code",
      "metadata": {
        "id": "mcHa7WW4STM-",
        "colab_type": "code",
        "colab": {
          "base_uri": "https://localhost:8080/",
          "height": 141
        },
        "outputId": "a15b5e20-8be3-48f9-c19e-7578575a35f3"
      },
      "source": [
        "ls"
      ],
      "execution_count": 216,
      "outputs": [
        {
          "output_type": "stream",
          "text": [
            "\u001b[0m\u001b[01;34m1071\u001b[0m/               \u001b[01;34mLukeALeeNER\u001b[0m/              skyeight.txt\n",
            "\u001b[01;34m1072dataanalysis\u001b[0m/   mbox-short.txt            train.txt\n",
            "\u001b[01;34mbert\u001b[0m/               \u001b[01;34mmis\u001b[0m/                      \u001b[01;34m學長構想\u001b[0m/\n",
            "bert.pptx           \u001b[01;34mpycorrector-master\u001b[0m/       \u001b[01;34m履歷\u001b[0m/\n",
            "eight_test.txt      pythonforeverybody.ipynb  \u001b[01;34m論文\u001b[0m/\n",
            "\u001b[01;34mGeneZCChinese-NER\u001b[0m/  pythonlearn.pdf           \u001b[01;34m讀書會\u001b[0m/\n",
            "\u001b[01;34mhontsevChineseNER\u001b[0m/  \u001b[01;34mrnn_tang_poetry\u001b[0m/          軟體工程提案報告.pptx\n"
          ],
          "name": "stdout"
        }
      ]
    }
  ]
}